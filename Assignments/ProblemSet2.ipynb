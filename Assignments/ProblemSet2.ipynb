{
 "cells": [
  {
   "cell_type": "markdown",
   "metadata": {},
   "source": [
    "# Problem Set 2"
   ]
  },
  {
   "cell_type": "code",
   "execution_count": 51,
   "metadata": {},
   "outputs": [],
   "source": [
    "import numpy as np\n",
    "import pandas as pd\n",
    "import seaborn as sns\n",
    "import scipy.stats as stats\n",
    "from patsy import dmatrices\n",
    "import statsmodels.api as sm\n",
    "import matplotlib.pyplot as plt\n",
    "from linearmodels.panel import PanelOLS, FamaMacBeth"
   ]
  },
  {
   "cell_type": "markdown",
   "metadata": {},
   "source": [
    "### Question 1: Fixed Effects And Within Transformations"
   ]
  },
  {
   "cell_type": "markdown",
   "metadata": {},
   "source": [
    "#### 1). Regress fuel efficiency (city.mpg) on horsepower without fixed effects. What should you conclude based on that regression?"
   ]
  },
  {
   "cell_type": "code",
   "execution_count": 52,
   "metadata": {},
   "outputs": [
    {
     "name": "stdout",
     "output_type": "stream",
     "text": [
      "                            OLS Regression Results                            \n",
      "==============================================================================\n",
      "Dep. Variable:               city.mpg   R-squared:                       0.049\n",
      "Model:                            OLS   Adj. R-squared:                  0.044\n",
      "Method:                 Least Squares   F-statistic:                     10.25\n",
      "Date:                Sun, 13 Apr 2025   Prob (F-statistic):            0.00159\n",
      "Time:                        20:29:01   Log-Likelihood:                -689.24\n",
      "No. Observations:                 203   AIC:                             1382.\n",
      "Df Residuals:                     201   BIC:                             1389.\n",
      "Df Model:                           1                                         \n",
      "Covariance Type:            nonrobust                                         \n",
      "==============================================================================\n",
      "                 coef    std err          t      P>|t|      [0.025      0.975]\n",
      "------------------------------------------------------------------------------\n",
      "const         12.2295      1.433      8.534      0.000       9.404      15.055\n",
      "horsepower     0.0411      0.013      3.201      0.002       0.016       0.066\n",
      "==============================================================================\n",
      "Omnibus:                      159.253   Durbin-Watson:                   1.190\n",
      "Prob(Omnibus):                  0.000   Jarque-Bera (JB):             2717.537\n",
      "Skew:                           2.800   Prob(JB):                         0.00\n",
      "Kurtosis:                      20.027   Cond. No.                         314.\n",
      "==============================================================================\n",
      "\n",
      "Notes:\n",
      "[1] Standard Errors assume that the covariance matrix of the errors is correctly specified.\n"
     ]
    }
   ],
   "source": [
    "carData = pd.read_csv('imports85_modified.csv')\n",
    "carData = carData[carData[\"horsepower\"].notna()]\n",
    "carData = carData[carData[\"city.mpg\"].notna()]\n",
    "\n",
    "horsepower = carData[[\"horsepower\"]]\n",
    "horsepower = sm.add_constant(horsepower)\n",
    "efficiency = carData[[\"city.mpg\"]]\n",
    "\n",
    "regressionHorsepower = sm.OLS(efficiency, horsepower).fit()\n",
    "print(regressionHorsepower.summary())"
   ]
  },
  {
   "cell_type": "markdown",
   "metadata": {},
   "source": [
    "This regression implies that when car efficiency goes up, so does horsepower. This regression looks only at all of the horsepower and car efficiency without other distinguishing features."
   ]
  },
  {
   "cell_type": "markdown",
   "metadata": {},
   "source": [
    "#### 2). Repeat the same regression but this time, add a fixed effect for the number of cylinders being equal to \"two\" or \"four\" (code this as a \"1\" and any other value as a zero). What would you conclude based on this new regression? What do you think drives the results in part 1?"
   ]
  },
  {
   "cell_type": "code",
   "execution_count": 53,
   "metadata": {},
   "outputs": [],
   "source": [
    "carData = carData.rename(columns={\"city.mpg\": \"city_mpg\"})\n",
    "carData[\"cylinder\"] = carData[\"num.of.cylinders\"].isin([\"two\", \"four\"]).astype(int)\n",
    "carData = carData.set_index([\"make\", carData.index])"
   ]
  },
  {
   "cell_type": "code",
   "execution_count": 54,
   "metadata": {},
   "outputs": [
    {
     "name": "stdout",
     "output_type": "stream",
     "text": [
      "                          PanelOLS Estimation Summary                           \n",
      "================================================================================\n",
      "Dep. Variable:               city_mpg   R-squared:                        0.8190\n",
      "Estimator:                   PanelOLS   R-squared (Between):             -5.1291\n",
      "No. Observations:                 203   R-squared (Within):               0.8190\n",
      "Date:                Sun, Apr 13 2025   R-squared (Overall):             -5.3111\n",
      "Time:                        20:29:01   Log-likelihood                   -463.78\n",
      "Cov. Estimator:            Unadjusted                                           \n",
      "                                        F-statistic:                      407.10\n",
      "Entities:                          21   P-value                           0.0000\n",
      "Avg Obs:                       9.6667   Distribution:                   F(2,180)\n",
      "Min Obs:                       1.0000                                           \n",
      "Max Obs:                       32.000   F-statistic (robust):             407.10\n",
      "                                        P-value                           0.0000\n",
      "Time periods:                     203   Distribution:                   F(2,180)\n",
      "Avg Obs:                       1.0000                                           \n",
      "Min Obs:                       1.0000                                           \n",
      "Max Obs:                       1.0000                                           \n",
      "                                                                                \n",
      "                             Parameter Estimates                              \n",
      "==============================================================================\n",
      "            Parameter  Std. Err.     T-stat    P-value    Lower CI    Upper CI\n",
      "------------------------------------------------------------------------------\n",
      "horsepower    -0.1052     0.0078    -13.434     0.0000     -0.1206     -0.0897\n",
      "cylinder      -22.538     0.7933    -28.409     0.0000     -24.103     -20.972\n",
      "==============================================================================\n",
      "\n",
      "F-test for Poolability: 6.3974\n",
      "P-value: 0.0000\n",
      "Distribution: F(20,180)\n",
      "\n",
      "Included effects: Entity\n"
     ]
    }
   ],
   "source": [
    "model = PanelOLS.from_formula(\"city_mpg ~ horsepower + cylinder + EntityEffects\", data=carData)\n",
    "results = model.fit()\n",
    "\n",
    "print(results)"
   ]
  },
  {
   "cell_type": "markdown",
   "metadata": {},
   "source": [
    "Based on this new regression that factors in the fixed effects, we see that the coefficent for horsepower is negative now, although slightly, and theres a very large negative coefficient for the cylinder fixed effect we added. This helps us better understand that more cylinders in a car corresponds to lower car efficiency."
   ]
  },
  {
   "cell_type": "markdown",
   "metadata": {},
   "source": [
    "#### 3). (Within transformation) Now obtain the mean city.mpg and horsepower for each group. Use these group means to demean horsepower and city.mph. Run the same regression you ran in part 1. Are these results different? Are the results obtained here different from the results in part 2? What does this tell you about the relation between fixed effect regressions and within transformations?"
   ]
  },
  {
   "cell_type": "code",
   "execution_count": null,
   "metadata": {},
   "outputs": [],
   "source": []
  },
  {
   "cell_type": "code",
   "execution_count": null,
   "metadata": {},
   "outputs": [],
   "source": []
  },
  {
   "cell_type": "code",
   "execution_count": null,
   "metadata": {},
   "outputs": [],
   "source": []
  },
  {
   "cell_type": "markdown",
   "metadata": {},
   "source": [
    "### Question 2: On Marginal Significance and Trading Strategy Improvements"
   ]
  },
  {
   "cell_type": "markdown",
   "metadata": {},
   "source": [
    "#### You come up with a signal of stock outperformance: log total asset growth. You realize that your professor has conveniently already coded up this variable for you in the dataset StockRetAcct_DT.csv. The variable is called \"lnInv\"."
   ]
  },
  {
   "cell_type": "markdown",
   "metadata": {},
   "source": [
    "#### 1). Using the Fama-MacBeth regression approach, what are the average return, standard deviation, and Sharpe ratio of the trading strategy implied by using only an intercept and lnInv on the right hand side in the regressions?"
   ]
  },
  {
   "cell_type": "code",
   "execution_count": 55,
   "metadata": {},
   "outputs": [
    {
     "data": {
      "text/html": [
       "<table class=\"simpletable\">\n",
       "<caption>FamaMacBeth Estimation Summary</caption>\n",
       "<tr>\n",
       "  <th>Dep. Variable:</th>              <td>ExRet</td>           <th>  R-squared:         </th>     <td>0.0073</td>  \n",
       "</tr>\n",
       "<tr>\n",
       "  <th>Estimator:</th>               <td>FamaMacBeth</td>        <th>  R-squared (Between):</th>    <td>-0.0146</td> \n",
       "</tr>\n",
       "<tr>\n",
       "  <th>No. Observations:</th>           <td>66788</td>           <th>  R-squared (Within):</th>     <td>0.0045</td>  \n",
       "</tr>\n",
       "<tr>\n",
       "  <th>Date:</th>                 <td>Sun, Apr 13 2025</td>      <th>  R-squared (Overall):</th>    <td>0.0073</td>  \n",
       "</tr>\n",
       "<tr>\n",
       "  <th>Time:</th>                     <td>20:29:02</td>          <th>  Log-likelihood     </th>   <td>-4.547e+04</td>\n",
       "</tr>\n",
       "<tr>\n",
       "  <th>Cov. Estimator:</th>   <td>Fama-MacBeth Standard Cov</td> <th>                     </th>        <td></td>     \n",
       "</tr>\n",
       "<tr>\n",
       "  <th></th>                              <td></td>              <th>  F-statistic:       </th>     <td>493.90</td>  \n",
       "</tr>\n",
       "<tr>\n",
       "  <th>Entities:</th>                   <td>7694</td>            <th>  P-value            </th>     <td>0.0000</td>  \n",
       "</tr>\n",
       "<tr>\n",
       "  <th>Avg Obs:</th>                   <td>8.6805</td>           <th>  Distribution:      </th>   <td>F(1,66786)</td>\n",
       "</tr>\n",
       "<tr>\n",
       "  <th>Min Obs:</th>                   <td>1.0000</td>           <th>                     </th>        <td></td>     \n",
       "</tr>\n",
       "<tr>\n",
       "  <th>Max Obs:</th>                   <td>35.000</td>           <th>  F-statistic (robust):</th>   <td>11.932</td>  \n",
       "</tr>\n",
       "<tr>\n",
       "  <th></th>                              <td></td>              <th>  P-value            </th>     <td>0.0006</td>  \n",
       "</tr>\n",
       "<tr>\n",
       "  <th>Time periods:</th>                <td>35</td>             <th>  Distribution:      </th>   <td>F(1,66786)</td>\n",
       "</tr>\n",
       "<tr>\n",
       "  <th>Avg Obs:</th>                   <td>1908.2</td>           <th>                     </th>        <td></td>     \n",
       "</tr>\n",
       "<tr>\n",
       "  <th>Min Obs:</th>                   <td>1560.0</td>           <th>                     </th>        <td></td>     \n",
       "</tr>\n",
       "<tr>\n",
       "  <th>Max Obs:</th>                   <td>2568.0</td>           <th>                     </th>        <td></td>     \n",
       "</tr>\n",
       "<tr>\n",
       "  <th></th>                              <td></td>              <th>                     </th>        <td></td>     \n",
       "</tr>\n",
       "</table>\n",
       "<table class=\"simpletable\">\n",
       "<caption>Parameter Estimates</caption>\n",
       "<tr>\n",
       "      <td></td>      <th>Parameter</th> <th>Std. Err.</th> <th>T-stat</th>  <th>P-value</th> <th>Lower CI</th> <th>Upper CI</th>\n",
       "</tr>\n",
       "<tr>\n",
       "  <th>Intercept</th>  <td>0.1078</td>    <td>0.0309</td>   <td>3.4833</td>  <td>0.0005</td>   <td>0.0471</td>   <td>0.1684</td> \n",
       "</tr>\n",
       "<tr>\n",
       "  <th>lnInv</th>      <td>-0.0868</td>   <td>0.0251</td>   <td>-3.4543</td> <td>0.0006</td>   <td>-0.1360</td>  <td>-0.0375</td>\n",
       "</tr>\n",
       "</table><br/>id: 0x29a6b6c80b0"
      ],
      "text/plain": [
       "                             FamaMacBeth Estimation Summary                            \n",
       "=======================================================================================\n",
       "Dep. Variable:                         ExRet   R-squared:                        0.0073\n",
       "Estimator:                       FamaMacBeth   R-squared (Between):             -0.0146\n",
       "No. Observations:                      66788   R-squared (Within):               0.0045\n",
       "Date:                       Sun, Apr 13 2025   R-squared (Overall):              0.0073\n",
       "Time:                               20:29:02   Log-likelihood                -4.547e+04\n",
       "Cov. Estimator:    Fama-MacBeth Standard Cov                                           \n",
       "                                               F-statistic:                      493.90\n",
       "Entities:                               7694   P-value                           0.0000\n",
       "Avg Obs:                              8.6805   Distribution:                 F(1,66786)\n",
       "Min Obs:                              1.0000                                           \n",
       "Max Obs:                              35.000   F-statistic (robust):             11.932\n",
       "                                               P-value                           0.0006\n",
       "Time periods:                             35   Distribution:                 F(1,66786)\n",
       "Avg Obs:                              1908.2                                           \n",
       "Min Obs:                              1560.0                                           \n",
       "Max Obs:                              2568.0                                           \n",
       "                                                                                       \n",
       "                             Parameter Estimates                              \n",
       "==============================================================================\n",
       "            Parameter  Std. Err.     T-stat    P-value    Lower CI    Upper CI\n",
       "------------------------------------------------------------------------------\n",
       "Intercept      0.1078     0.0309     3.4833     0.0005      0.0471      0.1684\n",
       "lnInv         -0.0868     0.0251    -3.4543     0.0006     -0.1360     -0.0375\n",
       "==============================================================================\n",
       "FamaMacBethResults, id: 0x29a6b6c80b0"
      ]
     },
     "execution_count": 55,
     "metadata": {},
     "output_type": "execute_result"
    }
   ],
   "source": [
    "returnsDF = pd.read_csv(\"StockRetAcct_DT.csv\")\n",
    "returnsDF = returnsDF[returnsDF[\"lnInv\"].notna()]\n",
    "returnsDF[\"ExRet\"]=np.exp(returnsDF.lnAnnRet)- np.exp(returnsDF.lnRf)\n",
    "\n",
    "returnsDF = returnsDF.set_index([\"FirmID\", \"year\"])\n",
    "y, X  = dmatrices(\"ExRet~lnInv\", returnsDF, return_type = \"dataframe\")\n",
    "\n",
    "res1 = FamaMacBeth(y, X).fit()\n",
    "FamaMacBeth(y,X).fit()"
   ]
  },
  {
   "cell_type": "code",
   "execution_count": 56,
   "metadata": {},
   "outputs": [
    {
     "name": "stdout",
     "output_type": "stream",
     "text": [
      "Average Return:  0.0105\n",
      "Standard Error:  0.028\n",
      "Sharpe Ratio:  0.3744\n"
     ]
    }
   ],
   "source": [
    "averageReturns1 = res1.params.mean()\n",
    "standardDeviation1 = res1.std_errors.mean()\n",
    "\n",
    "sharpeRatio1 = averageReturns1 / standardDeviation1\n",
    "\n",
    "print(\"Average Return: \", round(averageReturns1, 4))\n",
    "print(\"Standard Error: \", round(standardDeviation1,4))\n",
    "print(\"Sharpe Ratio: \", round(sharpeRatio1,4))"
   ]
  },
  {
   "cell_type": "markdown",
   "metadata": {},
   "source": [
    "#### 2). What is the analytical expression for the portfolio weights in this case? (Formula)"
   ]
  },
  {
   "cell_type": "markdown",
   "metadata": {},
   "source": [
    "#### From the lecture notes, we know that the formula for the portfolio weights is $\\lambda_{1,,t} = \\sum_{i=1}^{N} \\frac{1}{N}\\frac{(x_{i,t-1}-E_n[x_{i, t-1}])}{Var_N[x_{i, t-1}]} R_{i, t}$"
   ]
  },
  {
   "cell_type": "markdown",
   "metadata": {},
   "source": [
    "#### Then we can just fill in our regression variable in the $w_{i, t-1} = \\frac{1}{N} \\frac{(x_{i,t-1}-E_n[x_{i, t-1}])}{Var_N[x_{i, t-1}]} $ formula"
   ]
  },
  {
   "cell_type": "markdown",
   "metadata": {},
   "source": [
    "#### Thus, our expression for the portfolio weights in this case are $w_{i, t-1} = \\frac{1}{N} \\frac{(lnInv_{i, t-1}- E_n[lnInv_{i, t-1}])}{Var_N[lnInv_{i, t-1}]} $ formula"
   ]
  },
  {
   "cell_type": "markdown",
   "metadata": {},
   "source": [
    "#### However, the expected value is just the mean, so we simplify this into $w_{i, t-1} = \\frac{1}{N} \\frac{(x_{i,t-1}- mean[x_{i, t-1}])}{Var_N[x_{i, t-1}]} $."
   ]
  },
  {
   "cell_type": "markdown",
   "metadata": {},
   "source": [
    "#### 3). You worry that there is industry-related noise associated with the characteristic lnInv and want to clean up your trading strategy with the goal of reducing exponsure to unpriced industry risks. What regressions to you run? Report mean, standard deviation, and Sharpe Ratio of the 'cleaned-up' trading strategy."
   ]
  },
  {
   "cell_type": "code",
   "execution_count": 57,
   "metadata": {},
   "outputs": [
    {
     "data": {
      "text/html": [
       "<table class=\"simpletable\">\n",
       "<caption>FamaMacBeth Estimation Summary</caption>\n",
       "<tr>\n",
       "  <th>Dep. Variable:</th>              <td>ExRet</td>           <th>  R-squared:         </th>     <td>0.0078</td>   \n",
       "</tr>\n",
       "<tr>\n",
       "  <th>Estimator:</th>               <td>FamaMacBeth</td>        <th>  R-squared (Between):</th>    <td>-0.0260</td>  \n",
       "</tr>\n",
       "<tr>\n",
       "  <th>No. Observations:</th>           <td>66783</td>           <th>  R-squared (Within):</th>     <td>0.0043</td>   \n",
       "</tr>\n",
       "<tr>\n",
       "  <th>Date:</th>                 <td>Sun, Apr 13 2025</td>      <th>  R-squared (Overall):</th>    <td>0.0078</td>   \n",
       "</tr>\n",
       "<tr>\n",
       "  <th>Time:</th>                     <td>20:29:03</td>          <th>  Log-likelihood     </th>   <td>-4.543e+04</td> \n",
       "</tr>\n",
       "<tr>\n",
       "  <th>Cov. Estimator:</th>   <td>Fama-MacBeth Standard Cov</td> <th>                     </th>        <td></td>      \n",
       "</tr>\n",
       "<tr>\n",
       "  <th></th>                              <td></td>              <th>  F-statistic:       </th>     <td>43.789</td>   \n",
       "</tr>\n",
       "<tr>\n",
       "  <th>Entities:</th>                   <td>7694</td>            <th>  P-value            </th>     <td>0.0000</td>   \n",
       "</tr>\n",
       "<tr>\n",
       "  <th>Avg Obs:</th>                   <td>8.6799</td>           <th>  Distribution:      </th>   <td>F(12,66770)</td>\n",
       "</tr>\n",
       "<tr>\n",
       "  <th>Min Obs:</th>                   <td>1.0000</td>           <th>                     </th>        <td></td>      \n",
       "</tr>\n",
       "<tr>\n",
       "  <th>Max Obs:</th>                   <td>35.000</td>           <th>  F-statistic (robust):</th>   <td>6.4579</td>   \n",
       "</tr>\n",
       "<tr>\n",
       "  <th></th>                              <td></td>              <th>  P-value            </th>     <td>0.0000</td>   \n",
       "</tr>\n",
       "<tr>\n",
       "  <th>Time periods:</th>                <td>35</td>             <th>  Distribution:      </th>   <td>F(12,66770)</td>\n",
       "</tr>\n",
       "<tr>\n",
       "  <th>Avg Obs:</th>                   <td>1908.1</td>           <th>                     </th>        <td></td>      \n",
       "</tr>\n",
       "<tr>\n",
       "  <th>Min Obs:</th>                   <td>1558.0</td>           <th>                     </th>        <td></td>      \n",
       "</tr>\n",
       "<tr>\n",
       "  <th>Max Obs:</th>                   <td>2568.0</td>           <th>                     </th>        <td></td>      \n",
       "</tr>\n",
       "<tr>\n",
       "  <th></th>                              <td></td>              <th>                     </th>        <td></td>      \n",
       "</tr>\n",
       "</table>\n",
       "<table class=\"simpletable\">\n",
       "<caption>Parameter Estimates</caption>\n",
       "<tr>\n",
       "          <td></td>         <th>Parameter</th> <th>Std. Err.</th> <th>T-stat</th>  <th>P-value</th> <th>Lower CI</th> <th>Upper CI</th>\n",
       "</tr>\n",
       "<tr>\n",
       "  <th>Intercept</th>         <td>0.1128</td>    <td>0.0327</td>   <td>3.4468</td>  <td>0.0006</td>   <td>0.0486</td>   <td>0.1769</td> \n",
       "</tr>\n",
       "<tr>\n",
       "  <th>Industry[T.2.0]</th>   <td>-0.0122</td>   <td>0.0220</td>   <td>-0.5542</td> <td>0.5794</td>   <td>-0.0554</td>  <td>0.0310</td> \n",
       "</tr>\n",
       "<tr>\n",
       "  <th>Industry[T.3.0]</th>   <td>-0.0164</td>   <td>0.0219</td>   <td>-0.7491</td> <td>0.4538</td>   <td>-0.0593</td>  <td>0.0265</td> \n",
       "</tr>\n",
       "<tr>\n",
       "  <th>Industry[T.4.0]</th>   <td>-0.0296</td>   <td>0.0504</td>   <td>-0.5876</td> <td>0.5568</td>   <td>-0.1283</td>  <td>0.0691</td> \n",
       "</tr>\n",
       "<tr>\n",
       "  <th>Industry[T.5.0]</th>   <td>-0.0011</td>   <td>0.0167</td>   <td>-0.0661</td> <td>0.9473</td>   <td>-0.0337</td>  <td>0.0315</td> \n",
       "</tr>\n",
       "<tr>\n",
       "  <th>Industry[T.6.0]</th>   <td>0.0063</td>    <td>0.0474</td>   <td>0.1331</td>  <td>0.8941</td>   <td>-0.0865</td>  <td>0.0991</td> \n",
       "</tr>\n",
       "<tr>\n",
       "  <th>Industry[T.7.0]</th>   <td>0.0233</td>    <td>0.0367</td>   <td>0.6332</td>  <td>0.5266</td>   <td>-0.0487</td>  <td>0.0952</td> \n",
       "</tr>\n",
       "<tr>\n",
       "  <th>Industry[T.8.0]</th>   <td>-0.0181</td>   <td>0.0242</td>   <td>-0.7457</td> <td>0.4559</td>   <td>-0.0655</td>  <td>0.0294</td> \n",
       "</tr>\n",
       "<tr>\n",
       "  <th>Industry[T.9.0]</th>   <td>0.0081</td>    <td>0.0159</td>   <td>0.5113</td>  <td>0.6092</td>   <td>-0.0230</td>  <td>0.0393</td> \n",
       "</tr>\n",
       "<tr>\n",
       "  <th>Industry[T.10.0]</th>  <td>0.0291</td>    <td>0.0312</td>   <td>0.9342</td>  <td>0.3502</td>   <td>-0.0320</td>  <td>0.0903</td> \n",
       "</tr>\n",
       "<tr>\n",
       "  <th>Industry[T.11.0]</th>  <td>0.0124</td>    <td>0.0201</td>   <td>0.6181</td>  <td>0.5365</td>   <td>-0.0270</td>  <td>0.0518</td> \n",
       "</tr>\n",
       "<tr>\n",
       "  <th>Industry[T.12.0]</th>  <td>-0.0231</td>   <td>0.0154</td>   <td>-1.5079</td> <td>0.1316</td>   <td>-0.0532</td>  <td>0.0069</td> \n",
       "</tr>\n",
       "<tr>\n",
       "  <th>lnInv</th>             <td>-0.0826</td>   <td>0.0172</td>   <td>-4.7912</td> <td>0.0000</td>   <td>-0.1164</td>  <td>-0.0488</td>\n",
       "</tr>\n",
       "</table><br/>id: 0x29a01367bc0"
      ],
      "text/plain": [
       "                             FamaMacBeth Estimation Summary                            \n",
       "=======================================================================================\n",
       "Dep. Variable:                         ExRet   R-squared:                        0.0078\n",
       "Estimator:                       FamaMacBeth   R-squared (Between):             -0.0260\n",
       "No. Observations:                      66783   R-squared (Within):               0.0043\n",
       "Date:                       Sun, Apr 13 2025   R-squared (Overall):              0.0078\n",
       "Time:                               20:29:03   Log-likelihood                -4.543e+04\n",
       "Cov. Estimator:    Fama-MacBeth Standard Cov                                           \n",
       "                                               F-statistic:                      43.789\n",
       "Entities:                               7694   P-value                           0.0000\n",
       "Avg Obs:                              8.6799   Distribution:                F(12,66770)\n",
       "Min Obs:                              1.0000                                           \n",
       "Max Obs:                              35.000   F-statistic (robust):             6.4579\n",
       "                                               P-value                           0.0000\n",
       "Time periods:                             35   Distribution:                F(12,66770)\n",
       "Avg Obs:                              1908.1                                           \n",
       "Min Obs:                              1558.0                                           \n",
       "Max Obs:                              2568.0                                           \n",
       "                                                                                       \n",
       "                                Parameter Estimates                                 \n",
       "====================================================================================\n",
       "                  Parameter  Std. Err.     T-stat    P-value    Lower CI    Upper CI\n",
       "------------------------------------------------------------------------------------\n",
       "Intercept            0.1128     0.0327     3.4468     0.0006      0.0486      0.1769\n",
       "Industry[T.2.0]     -0.0122     0.0220    -0.5542     0.5794     -0.0554      0.0310\n",
       "Industry[T.3.0]     -0.0164     0.0219    -0.7491     0.4538     -0.0593      0.0265\n",
       "Industry[T.4.0]     -0.0296     0.0504    -0.5876     0.5568     -0.1283      0.0691\n",
       "Industry[T.5.0]     -0.0011     0.0167    -0.0661     0.9473     -0.0337      0.0315\n",
       "Industry[T.6.0]      0.0063     0.0474     0.1331     0.8941     -0.0865      0.0991\n",
       "Industry[T.7.0]      0.0233     0.0367     0.6332     0.5266     -0.0487      0.0952\n",
       "Industry[T.8.0]     -0.0181     0.0242    -0.7457     0.4559     -0.0655      0.0294\n",
       "Industry[T.9.0]      0.0081     0.0159     0.5113     0.6092     -0.0230      0.0393\n",
       "Industry[T.10.0]     0.0291     0.0312     0.9342     0.3502     -0.0320      0.0903\n",
       "Industry[T.11.0]     0.0124     0.0201     0.6181     0.5365     -0.0270      0.0518\n",
       "Industry[T.12.0]    -0.0231     0.0154    -1.5079     0.1316     -0.0532      0.0069\n",
       "lnInv               -0.0826     0.0172    -4.7912     0.0000     -0.1164     -0.0488\n",
       "====================================================================================\n",
       "FamaMacBethResults, id: 0x29a01367bc0"
      ]
     },
     "execution_count": 57,
     "metadata": {},
     "output_type": "execute_result"
    }
   ],
   "source": [
    "returnsDF['Industry']=returnsDF['ff_ind'].astype(object)\n",
    "y, X  = dmatrices(\"ExRet~lnInv+Industry\", returnsDF, return_type = \"dataframe\")\n",
    "\n",
    "res2 = FamaMacBeth(y, X).fit()\n",
    "FamaMacBeth(y,X).fit()"
   ]
  },
  {
   "cell_type": "code",
   "execution_count": 58,
   "metadata": {},
   "outputs": [
    {
     "name": "stdout",
     "output_type": "stream",
     "text": [
      "Average Return:  0.0007\n",
      "Standard Error:  0.0271\n",
      "Sharpe Ratio:  0.0254\n"
     ]
    }
   ],
   "source": [
    "averageReturns2 = res2.params.mean()\n",
    "standardDeviation2 = res2.std_errors.mean()\n",
    "\n",
    "sharpeRatio2 = averageReturns2 / standardDeviation2\n",
    "\n",
    "print(\"Average Return: \", round(averageReturns2, 4))\n",
    "print(\"Standard Error: \", round(standardDeviation2,4))\n",
    "print(\"Sharpe Ratio: \", round(sharpeRatio2,4))"
   ]
  },
  {
   "cell_type": "markdown",
   "metadata": {},
   "source": [
    "#### 4). As in the class notes, plot the cumulative returns to the simple and the 'cleaned-up' trading strategies based on your new signal, lnInv. Make sure both trading strategies result in portfolios with a 15% return standard deviation."
   ]
  },
  {
   "cell_type": "code",
   "execution_count": 69,
   "metadata": {},
   "outputs": [
    {
     "data": {
      "text/plain": [
       "[Text(0.5, 0, 'Year'),\n",
       " Text(0, 0.5, 'Cumulative Return'),\n",
       " Text(0.5, 1.0, 'Old Value vs New Value')]"
      ]
     },
     "execution_count": 69,
     "metadata": {},
     "output_type": "execute_result"
    },
    {
     "data": {
      "image/png": "[encoded data removed]",
      "text/plain": [
       "<Figure size 640x480 with 1 Axes>"
      ]
     },
     "metadata": {},
     "output_type": "display_data"
    }
   ],
   "source": [
    "y, X  = dmatrices(\"ExRet~lnInv+Industry\", returnsDF, return_type = \"dataframe\")\n",
    "res = FamaMacBeth(y,X).fit()\n",
    "\n",
    "lnInvstdev = res.all_params.lnInv.std()\n",
    "lnInvret = res.all_params.lnInv\n",
    "lnInv_ret = lnInvret*0.15/lnInvstdev\n",
    "cum_ret_lnInv = pd.DataFrame.cumsum(np.log(1+lnInv_ret))\n",
    "\n",
    "lnInvstdev = res1.all_params.lnInv.std()\n",
    "lnInvret = res1.all_params.lnInv\n",
    "lnInv_old_ret = pd.DataFrame.cumsum(np.log(1+lnInvret*0.15/lnInvstdev))\n",
    "\n",
    "summary = pd.DataFrame()\n",
    "summary['NewValue'] = np.exp(cum_ret_lnInv)\n",
    "summary['OldValue'] = np.exp(lnInv_old_ret)\n",
    "\n",
    "sns.set_style('darkgrid')\n",
    "plt.figure()\n",
    "ax=sns.lineplot(data=summary,dashes = False,linewidth = 3)\n",
    "ax.set(xlabel = 'Year',\n",
    "ylabel = 'Cumulative Return',\n",
    "title = \"Old Value vs New Value\")"
   ]
  }
 ],
 "metadata": {
  "kernelspec": {
   "display_name": "Python 3",
   "language": "python",
   "name": "python3"
  },
  "language_info": {
   "codemirror_mode": {
    "name": "ipython",
    "version": 3
   },
   "file_extension": ".py",
   "mimetype": "text/x-python",
   "name": "python",
   "nbconvert_exporter": "python",
   "pygments_lexer": "ipython3",
   "version": "3.12.4"
  }
 },
 "nbformat": 4,
 "nbformat_minor": 2
}
