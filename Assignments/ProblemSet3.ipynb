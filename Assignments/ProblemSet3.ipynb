{
 "cells": [
  {
   "cell_type": "markdown",
   "metadata": {},
   "source": [
    "# Problem Set 3"
   ]
  },
  {
   "cell_type": "code",
   "execution_count": 1,
   "metadata": {},
   "outputs": [],
   "source": [
    "import numpy as np\n",
    "import pandas as pd\n",
    "import statsmodels.api as sm\n",
    "import matplotlib.pyplot as plt\n",
    "\n",
    "import warnings\n",
    "warnings.filterwarnings(\"ignore\")"
   ]
  },
  {
   "cell_type": "markdown",
   "metadata": {},
   "source": [
    "## Question 1: Predicting Default"
   ]
  },
  {
   "cell_type": "markdown",
   "metadata": {},
   "source": [
    "### a). We will use the column \"loan_status\" as the indicator for whether the loan was paid or there was a default."
   ]
  },
  {
   "cell_type": "markdown",
   "metadata": {},
   "source": [
    "#### i). Drop all rows where \"loan_status\" is not equal to either \"Fully Paid\" or \"Charged Off.\" Define the new variable Default as 1 (or TRUE) if \"loan_status\" is equal to \"Charged Off\", and 0 (or FALSE) otherwise."
   ]
  },
  {
   "cell_type": "code",
   "execution_count": 2,
   "metadata": {},
   "outputs": [
    {
     "data": {
      "text/html": [
       "<div>\n",
       "<style scoped>\n",
       "    .dataframe tbody tr th:only-of-type {\n",
       "        vertical-align: middle;\n",
       "    }\n",
       "\n",
       "    .dataframe tbody tr th {\n",
       "        vertical-align: top;\n",
       "    }\n",
       "\n",
       "    .dataframe thead th {\n",
       "        text-align: right;\n",
       "    }\n",
       "</style>\n",
       "<table border=\"1\" class=\"dataframe\">\n",
       "  <thead>\n",
       "    <tr style=\"text-align: right;\">\n",
       "      <th></th>\n",
       "      <th>loan_status</th>\n",
       "      <th>Default</th>\n",
       "    </tr>\n",
       "  </thead>\n",
       "  <tbody>\n",
       "    <tr>\n",
       "      <th>0</th>\n",
       "      <td>Fully Paid</td>\n",
       "      <td>False</td>\n",
       "    </tr>\n",
       "    <tr>\n",
       "      <th>1</th>\n",
       "      <td>Charged Off</td>\n",
       "      <td>True</td>\n",
       "    </tr>\n",
       "    <tr>\n",
       "      <th>2</th>\n",
       "      <td>Fully Paid</td>\n",
       "      <td>False</td>\n",
       "    </tr>\n",
       "    <tr>\n",
       "      <th>3</th>\n",
       "      <td>Fully Paid</td>\n",
       "      <td>False</td>\n",
       "    </tr>\n",
       "    <tr>\n",
       "      <th>5</th>\n",
       "      <td>Fully Paid</td>\n",
       "      <td>False</td>\n",
       "    </tr>\n",
       "    <tr>\n",
       "      <th>...</th>\n",
       "      <td>...</td>\n",
       "      <td>...</td>\n",
       "    </tr>\n",
       "    <tr>\n",
       "      <th>39781</th>\n",
       "      <td>Fully Paid</td>\n",
       "      <td>False</td>\n",
       "    </tr>\n",
       "    <tr>\n",
       "      <th>39782</th>\n",
       "      <td>Fully Paid</td>\n",
       "      <td>False</td>\n",
       "    </tr>\n",
       "    <tr>\n",
       "      <th>39783</th>\n",
       "      <td>Fully Paid</td>\n",
       "      <td>False</td>\n",
       "    </tr>\n",
       "    <tr>\n",
       "      <th>39784</th>\n",
       "      <td>Fully Paid</td>\n",
       "      <td>False</td>\n",
       "    </tr>\n",
       "    <tr>\n",
       "      <th>39785</th>\n",
       "      <td>Fully Paid</td>\n",
       "      <td>False</td>\n",
       "    </tr>\n",
       "  </tbody>\n",
       "</table>\n",
       "<p>39412 rows × 2 columns</p>\n",
       "</div>"
      ],
      "text/plain": [
       "       loan_status  Default\n",
       "0       Fully Paid    False\n",
       "1      Charged Off     True\n",
       "2       Fully Paid    False\n",
       "3       Fully Paid    False\n",
       "5       Fully Paid    False\n",
       "...            ...      ...\n",
       "39781   Fully Paid    False\n",
       "39782   Fully Paid    False\n",
       "39783   Fully Paid    False\n",
       "39784   Fully Paid    False\n",
       "39785   Fully Paid    False\n",
       "\n",
       "[39412 rows x 2 columns]"
      ]
     },
     "execution_count": 2,
     "metadata": {},
     "output_type": "execute_result"
    }
   ],
   "source": [
    "data = pd.read_csv(\"LendingClub_LoanStats3a_v12.csv\")\n",
    "data = data[data[\"loan_status\"].isin([\"Fully Paid\", \"Charged Off\"])]\n",
    "\n",
    "data[\"Default\"] = data[\"loan_status\"] == \"Charged Off\"\n",
    "data[[\"loan_status\", \"Default\"]]"
   ]
  },
  {
   "cell_type": "markdown",
   "metadata": {},
   "source": [
    "#### ii). Report the average default rate in the sample (number of defaults divided by total number of loans)."
   ]
  },
  {
   "cell_type": "code",
   "execution_count": 3,
   "metadata": {},
   "outputs": [
    {
     "name": "stdout",
     "output_type": "stream",
     "text": [
      "14.35%\n"
     ]
    }
   ],
   "source": [
    "print(f\"{data[\"Default\"].sum()/len(data)*100:.2f}%\")"
   ]
  },
  {
   "cell_type": "markdown",
   "metadata": {},
   "source": [
    "### b). LendingClub gives a \"grade\" to each borrower, designed as a score of each borrowers creditworthiness. The best grade is \"A\", the worst grade is \"G\"."
   ]
  },
  {
   "cell_type": "markdown",
   "metadata": {},
   "source": [
    "#### i). Run a logistic regression of the Default variable on the grade. Report and explain the regression output. I.e., what is the interpretation of the coefficients? Do the numbers 'make sense'."
   ]
  },
  {
   "cell_type": "code",
   "execution_count": 4,
   "metadata": {},
   "outputs": [
    {
     "name": "stdout",
     "output_type": "stream",
     "text": [
      "Optimization terminated successfully.\n",
      "         Current function value: 0.392196\n",
      "         Iterations 7\n",
      "                           Logit Regression Results                           \n",
      "==============================================================================\n",
      "Dep. Variable:                Default   No. Observations:                39412\n",
      "Model:                          Logit   Df Residuals:                    39405\n",
      "Method:                           MLE   Df Model:                            6\n",
      "Date:                Sat, 19 Apr 2025   Pseudo R-squ.:                 0.04651\n",
      "Time:                        11:53:53   Log-Likelihood:                -15457.\n",
      "converged:                       True   LL-Null:                       -16211.\n",
      "Covariance Type:            nonrobust   LLR p-value:                     0.000\n",
      "==============================================================================\n",
      "                 coef    std err          z      P>|z|      [0.025      0.975]\n",
      "------------------------------------------------------------------------------\n",
      "const         -2.7554      0.042    -65.554      0.000      -2.838      -2.673\n",
      "B              0.7614      0.051     15.045      0.000       0.662       0.861\n",
      "C              1.1597      0.052     22.503      0.000       1.059       1.261\n",
      "D              1.4600      0.054     27.130      0.000       1.355       1.565\n",
      "E              1.6983      0.060     28.167      0.000       1.580       1.817\n",
      "F              1.9732      0.079     24.874      0.000       1.818       2.129\n",
      "G              2.0139      0.128     15.734      0.000       1.763       2.265\n",
      "==============================================================================\n"
     ]
    }
   ],
   "source": [
    "data[\"Default\"] = data[\"Default\"].astype(int)\n",
    "\n",
    "X = pd.get_dummies(data[\"grade\"], drop_first=True)\n",
    "X = sm.add_constant(X)\n",
    "X = X.astype(float)\n",
    "y = data[\"Default\"]\n",
    "\n",
    "regression = sm.Logit(y, X)\n",
    "result = regression.fit()\n",
    "\n",
    "print(result.summary())"
   ]
  },
  {
   "cell_type": "markdown",
   "metadata": {},
   "source": [
    "#### ii). Construct and report a test of whether the model performs better than the null model where only \"beta0\", and no conditioning information, is present in the logistic model. "
   ]
  },
  {
   "cell_type": "code",
   "execution_count": null,
   "metadata": {},
   "outputs": [],
   "source": []
  },
  {
   "cell_type": "markdown",
   "metadata": {},
   "source": [
    "#### iii). Construct the lift table and the ROC curve for this model. [When constructing these, think a little about the nature of your model. For instance, does it make sense to use deciles in the lift table or would a different type of cutoff be more sensible?] Explain the interpretation of the numbers in the lift table and the lines and axis in the ROC curve. Does the model perform better than a random guess?"
   ]
  },
  {
   "cell_type": "code",
   "execution_count": null,
   "metadata": {},
   "outputs": [],
   "source": []
  },
  {
   "cell_type": "code",
   "execution_count": null,
   "metadata": {},
   "outputs": [],
   "source": []
  },
  {
   "cell_type": "code",
   "execution_count": null,
   "metadata": {},
   "outputs": [],
   "source": []
  },
  {
   "cell_type": "code",
   "execution_count": null,
   "metadata": {},
   "outputs": [],
   "source": []
  },
  {
   "cell_type": "markdown",
   "metadata": {},
   "source": [
    "### c). Next, we will see if it is possible to do better than the internal \"grade\"-variable, using other information about the borrower and the loan as provided by LendingClub."
   ]
  },
  {
   "cell_type": "markdown",
   "metadata": {},
   "source": [
    "#### i). First, consider a logistic regression model that uses only loan amount (loan_amnt) and annual income (annual_inc) as explanatory variables. Report the regression results. Show the lift table, comparing to the 'grade'-model from a. Plot the ROC curves of both the 'grade'-model and the alternative model. Which model performs better?"
   ]
  },
  {
   "cell_type": "code",
   "execution_count": 5,
   "metadata": {},
   "outputs": [
    {
     "name": "stdout",
     "output_type": "stream",
     "text": [
      "Optimization terminated successfully.\n",
      "         Current function value: 0.406307\n",
      "         Iterations 7\n",
      "                           Logit Regression Results                           \n",
      "==============================================================================\n",
      "Dep. Variable:                Default   No. Observations:                39412\n",
      "Model:                          Logit   Df Residuals:                    39409\n",
      "Method:                           MLE   Df Model:                            2\n",
      "Date:                Sat, 19 Apr 2025   Pseudo R-squ.:                 0.01221\n",
      "Time:                        11:57:10   Log-Likelihood:                -16013.\n",
      "converged:                       True   LL-Null:                       -16211.\n",
      "Covariance Type:            nonrobust   LLR p-value:                 1.121e-86\n",
      "==============================================================================\n",
      "                 coef    std err          z      P>|z|      [0.025      0.975]\n",
      "------------------------------------------------------------------------------\n",
      "const         -1.7254      0.032    -53.708      0.000      -1.788      -1.662\n",
      "loan_amnt   3.484e-05   2.08e-06     16.742      0.000    3.08e-05    3.89e-05\n",
      "annual_inc -7.089e-06   4.66e-07    -15.201      0.000      -8e-06   -6.17e-06\n",
      "==============================================================================\n"
     ]
    }
   ],
   "source": [
    "X = data[[\"loan_amnt\", \"annual_inc\"]].copy()\n",
    "X = sm.add_constant(X)\n",
    "X = X.astype(float)\n",
    "y = data[\"Default\"]\n",
    "\n",
    "regression = sm.Logit(y, X)\n",
    "result = regression.fit()\n",
    "\n",
    "print(result.summary())"
   ]
  },
  {
   "cell_type": "code",
   "execution_count": 8,
   "metadata": {},
   "outputs": [
    {
     "name": "stdout",
     "output_type": "stream",
     "text": [
      "Optimization terminated successfully.\n",
      "         Current function value: 0.392196\n",
      "         Iterations 7\n",
      "Lift Table - Loan Amount + Income Model\n",
      "                             bucket  total  events  event_rate  cum_events  \\\n",
      "9                    (0.264, 0.568]   3942    1234    0.313039        5657   \n",
      "8                    (0.198, 0.264]   3941     929    0.235727        4423   \n",
      "7                    (0.165, 0.198]   3941     739    0.187516        3494   \n",
      "6                    (0.143, 0.165]   3941     622    0.157828        2755   \n",
      "5                    (0.123, 0.143]   3941     572    0.145141        2133   \n",
      "4                    (0.107, 0.123]   3941     459    0.116468        1561   \n",
      "3                   (0.0903, 0.107]   3941     390    0.098960        1102   \n",
      "2                  (0.0744, 0.0903]   3941     317    0.080436         712   \n",
      "1                  (0.0611, 0.0744]   3941     251    0.063689         395   \n",
      "0  (-0.0009999999999999755, 0.0611]   3942     144    0.036530         144   \n",
      "\n",
      "   cum_event_rate  \n",
      "9        1.000000  \n",
      "8        0.781863  \n",
      "7        0.617642  \n",
      "6        0.487007  \n",
      "5        0.377055  \n",
      "4        0.275941  \n",
      "3        0.194803  \n",
      "2        0.125862  \n",
      "1        0.069825  \n",
      "0        0.025455  \n",
      "\n",
      "Lift Table - Grade Model\n",
      "           bucket  total  events  event_rate  cum_events  cum_event_rate\n",
      "4  (0.258, 0.323]   1339     423    0.315907        5657        1.000000\n",
      "3  (0.215, 0.258]   2796     721    0.257868        5234        0.925225\n",
      "2  (0.169, 0.215]   5248    1128    0.214939        4513        0.797773\n",
      "1   (0.12, 0.169]   8026    1353    0.168577        3385        0.598374\n",
      "0  (0.0588, 0.12]  22003    2032    0.092351        2032        0.359201\n"
     ]
    }
   ],
   "source": [
    "y_pred = result.predict(X)\n",
    "X_grade = pd.get_dummies(data[\"grade\"], drop_first=True)\n",
    "X_grade = sm.add_constant(X_grade).astype(float)\n",
    "model_grade = sm.Logit(y, X_grade).fit()\n",
    "y_pred_grade = model_grade.predict(X_grade)\n",
    "def lift_table(y_true, y_scores, n_bins=10):\n",
    "    df = pd.DataFrame({\n",
    "        'actual': y_true,\n",
    "        'score': y_scores\n",
    "    })\n",
    "    df['bucket'] = pd.qcut(df['score'], n_bins, duplicates='drop')\n",
    "\n",
    "    grouped = df.groupby('bucket', as_index=False).agg(\n",
    "        total=('actual', 'count'),\n",
    "        events=('actual', 'sum')\n",
    "    )\n",
    "    grouped['event_rate'] = grouped['events'] / grouped['total']\n",
    "    grouped['cum_events'] = grouped['events'].cumsum()\n",
    "    grouped['cum_event_rate'] = grouped['cum_events'] / grouped['events'].sum()\n",
    "    \n",
    "    return grouped.sort_values(by='bucket', ascending=False)\n",
    "print(\"Lift Table - Loan Amount + Income Model\")\n",
    "print(lift_table(y, y_pred))\n",
    "\n",
    "print(\"\\nLift Table - Grade Model\")\n",
    "print(lift_table(y, y_pred_grade))\n"
   ]
  },
  {
   "cell_type": "markdown",
   "metadata": {},
   "source": [
    "#### ii). Now, include also information from the loan itself. In particular, include the maturity of the loan (term) and the interest rate (int_rate) in the logistic regression. Report the output. How does Python handle the term variable? In particular, what is the interpretation of the regression coefficient? Again show the lift table and ROC curve relative to the original 'grade' model. Now, which model is better? What is the likely explanation for why this new model performs better/worse?"
   ]
  },
  {
   "cell_type": "code",
   "execution_count": 9,
   "metadata": {},
   "outputs": [
    {
     "data": {
      "image/png": "[encoded data removed]",
      "text/plain": [
       "<Figure size 800x600 with 1 Axes>"
      ]
     },
     "metadata": {},
     "output_type": "display_data"
    }
   ],
   "source": [
    "from sklearn.metrics import roc_curve, auc\n",
    "import matplotlib.pyplot as plt\n",
    "\n",
    "# ROC for loan_amnt + annual_inc\n",
    "fpr1, tpr1, _ = roc_curve(y, y_pred)\n",
    "roc_auc1 = auc(fpr1, tpr1)\n",
    "\n",
    "# ROC for grade model\n",
    "fpr2, tpr2, _ = roc_curve(y, y_pred_grade)\n",
    "roc_auc2 = auc(fpr2, tpr2)\n",
    "\n",
    "# Plot\n",
    "plt.figure(figsize=(8, 6))\n",
    "plt.plot(fpr1, tpr1, label=f'Loan+Income Model (AUC = {roc_auc1:.2f})')\n",
    "plt.plot(fpr2, tpr2, label=f'Grade Model (AUC = {roc_auc2:.2f})', linestyle='--')\n",
    "plt.plot([0, 1], [0, 1], color='gray', linestyle=':')\n",
    "plt.xlabel('False Positive Rate')\n",
    "plt.ylabel('True Positive Rate')\n",
    "plt.title('ROC Curve Comparison')\n",
    "plt.legend(loc='lower right')\n",
    "plt.grid()\n",
    "plt.show()\n"
   ]
  },
  {
   "cell_type": "code",
   "execution_count": 7,
   "metadata": {},
   "outputs": [
    {
     "name": "stdout",
     "output_type": "stream",
     "text": [
      "Optimization terminated successfully.\n",
      "         Current function value: 0.385901\n",
      "         Iterations 7\n",
      "                           Logit Regression Results                           \n",
      "==============================================================================\n",
      "Dep. Variable:                Default   No. Observations:                39412\n",
      "Model:                          Logit   Df Residuals:                    39407\n",
      "Method:                           MLE   Df Model:                            4\n",
      "Date:                Sat, 19 Apr 2025   Pseudo R-squ.:                 0.06182\n",
      "Time:                        17:10:46   Log-Likelihood:                -15209.\n",
      "converged:                       True   LL-Null:                       -16211.\n",
      "Covariance Type:            nonrobust   LLR p-value:                     0.000\n",
      "==============================================================================\n",
      "                 coef    std err          z      P>|z|      [0.025      0.975]\n",
      "------------------------------------------------------------------------------\n",
      "const         -3.9467      0.070    -56.455      0.000      -4.084      -3.810\n",
      "loan_amnt   1.176e-06   2.31e-06      0.509      0.611   -3.35e-06    5.71e-06\n",
      "annual_inc -6.117e-06   4.64e-07    -13.173      0.000   -7.03e-06   -5.21e-06\n",
      "term           0.0189      0.001     12.732      0.000       0.016       0.022\n",
      "int_rate      13.4873      0.456     29.575      0.000      12.593      14.381\n",
      "==============================================================================\n"
     ]
    }
   ],
   "source": [
    "data[\"term\"] = data[\"term\"].str.extract(\"(\\d+)\").astype(int)\n",
    "\n",
    "X = data[[\"loan_amnt\", \"annual_inc\", \"term\", \"int_rate\"]].copy()\n",
    "X = sm.add_constant(X)\n",
    "X = X.astype(float)\n",
    "y = data[\"Default\"]\n",
    "\n",
    "regression = sm.Logit(y, X)\n",
    "result = regression.fit()\n",
    "\n",
    "print(result.summary())"
   ]
  },
  {
   "cell_type": "markdown",
   "metadata": {},
   "source": [
    "#### iii). Create the squared of the interest rate and add this variable to the last model. Is the coefficient on this variable significant? Please give an intuition for what the coefficients on both int_rate and its squared value imply for the relationship between defaults and the interest rate."
   ]
  },
  {
   "cell_type": "code",
   "execution_count": null,
   "metadata": {},
   "outputs": [],
   "source": []
  }
 ],
 "metadata": {
  "kernelspec": {
   "display_name": "Python 3",
   "language": "python",
   "name": "python3"
  },
  "language_info": {
   "codemirror_mode": {
    "name": "ipython",
    "version": 3
   },
   "file_extension": ".py",
   "mimetype": "text/x-python",
   "name": "python",
   "nbconvert_exporter": "python",
   "pygments_lexer": "ipython3",
   "version": "3.12.4"
  }
 },
 "nbformat": 4,
 "nbformat_minor": 2
}
